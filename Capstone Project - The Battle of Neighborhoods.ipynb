{
    "nbformat_minor": 1, 
    "cells": [
        {
            "source": "# Capstone Project - The Battle of the Neighborhoods (Project)\n\n\n<br />\n\n\n\n## Table of contents\n\n\n\n<font size = 4>\n    \n1. <a href=\"#introduction\">Introduction: Business Problem</a>\n    \n2. <a href=\"#data\">Data</a>\n\n\n</font>\n", 
            "cell_type": "markdown", 
            "metadata": {
                "collapsed": true
            }
        }, 
        {
            "source": "## Introduction: Business Problem <a name=\"introduction\"></a>", 
            "cell_type": "markdown", 
            "metadata": {}
        }, 
        {
            "source": "<font size = 4>\nIn this project the hospitality business association of the <a href=\"https://en.wikipedia.org/wiki/Bridgeland,_Calgary\">Bridgeland</a> neighbourhood, located in the city of Calgary province of Alberta, has decided to target entrepreneurs interested in investing in this new trending area. The intention of this project is to create new business opportunities for locals and stop relying on the financial benefits from the oil and gas industry.\n\nTo best support their case, the hospitality business association decided to hire a data professional services company to demonstrate:\n\n* Businesses location\n* Consumer's ranks\n* Variety of cuisines\n* Accessibility using public trasit or public roads\n* Proximity to parking areas\n\nIn one sentence, **all necessary information** to facilitate entrepreneurs make an informed decision.\n\n\n</font>", 
            "cell_type": "markdown", 
            "metadata": {}
        }, 
        {
            "source": "## Data <a name=\"data\"></a>", 
            "cell_type": "markdown", 
            "metadata": {}
        }, 
        {
            "source": "### Source\n\n<br />\n\n<font size = 4>\n\nIn order to obtain reliable results and avoid incorrect and dated opinions, the project team (aka data team) decided to use data from an application called <a href=\"https://developer.foursquare.com/\">Foursquare</a>, as the main source for the analysis. \nKey descriptors like venue, category or popularity, name, address, rating, and reviews for all business located in Bridgeland will be downloaded from this app to provide accurate results.\n\n<br />\n\nThis is how data from Foursquare will be used in the project:\n\n* Businesses location.- Foursquare provides up to date venue information for any geographical location \n<br />\n\n\n* Consumer's ranks.- Foursquare has a numerical rating of the venue (0 through 10)\n<br />\n\n\n* Variety of cuisines.- Foursquare provides venue category grouped by hierarchy. For example:\n            \n            Food\n                Afghan Restaurant\n                African Restaurant\n                    Ethiopian Restaurant\n                American Restaurant\n                    New American Restaurant\n                Asian Restaurant\n                    Burmese Restaurant\n                    Cambodian Restaurant\n<br />\n\n* Accessibility using public transit or public roads.- Data will be displayed on maps to easily identify public routes and public transit access such as train stations, bus stops, etc. \n<br />\n\n* Proximity to parking areas.- These will be shown on the maps but the parking category is part of the Professional & Other Places venue category in Foursquare\n\n<br />\n\n***Important note:*** the project team decided not to use data from other sources such as Google maps, trip advisor and yelp because it was discovered that data is not trustworthy and in some cases dated. \n</font>", 
            "cell_type": "markdown", 
            "metadata": {}
        }, 
        {
            "execution_count": null, 
            "cell_type": "code", 
            "metadata": {}, 
            "outputs": [], 
            "source": ""
        }, 
        {
            "execution_count": null, 
            "cell_type": "code", 
            "metadata": {}, 
            "outputs": [], 
            "source": ""
        }, 
        {
            "execution_count": null, 
            "cell_type": "code", 
            "metadata": {}, 
            "outputs": [], 
            "source": ""
        }
    ], 
    "metadata": {
        "kernelspec": {
            "display_name": "Python 3.5", 
            "name": "python3", 
            "language": "python"
        }, 
        "language_info": {
            "mimetype": "text/x-python", 
            "nbconvert_exporter": "python", 
            "version": "3.5.5", 
            "name": "python", 
            "file_extension": ".py", 
            "pygments_lexer": "ipython3", 
            "codemirror_mode": {
                "version": 3, 
                "name": "ipython"
            }
        }
    }, 
    "nbformat": 4
}