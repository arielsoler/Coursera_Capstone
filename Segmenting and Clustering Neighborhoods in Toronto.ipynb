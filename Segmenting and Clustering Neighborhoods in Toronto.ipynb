{
    "nbformat_minor": 1, 
    "cells": [
        {
            "source": "# Segmenting and Clustering Neighborhoods in Toronto", 
            "cell_type": "markdown", 
            "metadata": {
                "collapsed": true
            }
        }, 
        {
            "source": "## Import libraries and packages", 
            "cell_type": "markdown", 
            "metadata": {}
        }, 
        {
            "execution_count": 1, 
            "cell_type": "code", 
            "metadata": {}, 
            "outputs": [], 
            "source": "from bs4 import BeautifulSoup\nimport requests\nimport numpy as np\nimport pandas as pd \n\n#@ hidden"
        }, 
        {
            "source": "## indicate the HTML page to read", 
            "cell_type": "markdown", 
            "metadata": {}
        }, 
        {
            "execution_count": 80, 
            "cell_type": "code", 
            "metadata": {}, 
            "outputs": [], 
            "source": "source = requests.get('https://en.wikipedia.org/wiki/List_of_postal_codes_of_Canada:_M').text"
        }, 
        {
            "source": "## convert html using lxml package", 
            "cell_type": "markdown", 
            "metadata": {}
        }, 
        {
            "execution_count": 81, 
            "cell_type": "code", 
            "metadata": {}, 
            "outputs": [], 
            "source": "soup=BeautifulSoup(source,'lxml')"
        }, 
        {
            "source": "## Extract data from website ", 
            "cell_type": "markdown", 
            "metadata": {}
        }, 
        {
            "execution_count": 82, 
            "cell_type": "code", 
            "metadata": {}, 
            "outputs": [], 
            "source": "table = soup.find('table')\nrows = table.tbody.tr"
        }, 
        {
            "source": "## Read data and create panda dataframe (exclude 'Not Assigned' and blanks)", 
            "cell_type": "markdown", 
            "metadata": {}
        }, 
        {
            "execution_count": 83, 
            "cell_type": "code", 
            "metadata": {}, 
            "outputs": [], 
            "source": "tpd = pd.DataFrame(columns=['Postcode','Borough LIST','Neighbourhood'])\n\nx = 1\nPostcode=''\nBorough=''\nNeighbourhood=''\n\nfor rows in table.find_all('td'):\n  \n    row = rows.text\n    if x == 1:\n        Postcode=row\n        \n    if x == 2:\n        Borough=row\n        \n    if x == 3:\n        Neighbourhood=row\n        \n    x = x + 1\n    \n    if x > 3:\n        \n        if Borough.strip() != 'Not assigned':\n            \n            if Neighbourhood.strip() =='Not assigned':\n                Neighbourhood=Borough\n            tpd = tpd.append({'Postcode': Postcode, 'Borough LIST': Borough, 'Neighbourhood': Neighbourhood}, ignore_index=True)\n        \n        x=1\n        Postcode=''\n        Borough=''\n        Neighbourhood=''"
        }, 
        {
            "source": "## Replace '\\n' with blank", 
            "cell_type": "markdown", 
            "metadata": {}
        }, 
        {
            "execution_count": 84, 
            "cell_type": "code", 
            "metadata": {}, 
            "outputs": [], 
            "source": "#tpd.sort_values(by ='Postcode' )\ntpd['Neighbourhood'] = tpd['Neighbourhood'].str.replace('\\n',' ')"
        }, 
        {
            "source": "## Group data frame by Postcode, Borough and Neighbourhood and clean data", 
            "cell_type": "markdown", 
            "metadata": {}
        }, 
        {
            "execution_count": 85, 
            "cell_type": "code", 
            "metadata": {}, 
            "outputs": [], 
            "source": "#tpd.groupby('Postcode')['Neighbourhood'].apply(list)\n#tpd.groupby('Postcode').agg(lambda x: tuple(x))\n\n#Group data\ntpd_group = tpd.groupby(by='Postcode').agg({'Borough LIST':lambda x: list(x),'Neighbourhood':lambda x: list(x)},as_index=False)\n\n#Create new column with first value from the list\ntpd_group['Borough'] = tpd_group[\"Borough LIST\"].str[0]\n\n#Remove old column\ntpd_group.drop(['Borough LIST'], axis=1, inplace=True)\n\n# Convert List to a String\ntpd_group['Neighbourhood'] = tpd_group.Neighbourhood.apply(', '.join)\n\n#tpd_group\n"
        }, 
        {
            "source": "## Retrieve Geospatial data", 
            "cell_type": "markdown", 
            "metadata": {}
        }, 
        {
            "execution_count": 86, 
            "cell_type": "code", 
            "metadata": {}, 
            "outputs": [], 
            "source": "df_geo = pd.DataFrame(pd.read_csv('https://cocl.us/Geospatial_data'))\ndf_geo=df_geo.rename(columns = {'Postal Code':'Postcode'})\ndf_geo.set_index('Postcode',inplace=True)\n#df_geo"
        }, 
        {
            "source": "## Merge data", 
            "cell_type": "markdown", 
            "metadata": {}
        }, 
        {
            "execution_count": 87, 
            "cell_type": "code", 
            "metadata": {}, 
            "outputs": [
                {
                    "execution_count": 87, 
                    "metadata": {}, 
                    "data": {
                        "text/html": "<div>\n<style scoped>\n    .dataframe tbody tr th:only-of-type {\n        vertical-align: middle;\n    }\n\n    .dataframe tbody tr th {\n        vertical-align: top;\n    }\n\n    .dataframe thead th {\n        text-align: right;\n    }\n</style>\n<table border=\"1\" class=\"dataframe\">\n  <thead>\n    <tr style=\"text-align: right;\">\n      <th></th>\n      <th>Neighbourhood</th>\n      <th>Borough</th>\n      <th>Latitude</th>\n      <th>Longitude</th>\n    </tr>\n    <tr>\n      <th>Postcode</th>\n      <th></th>\n      <th></th>\n      <th></th>\n      <th></th>\n    </tr>\n  </thead>\n  <tbody>\n    <tr>\n      <th>M1B</th>\n      <td>Rouge , Malvern</td>\n      <td>Scarborough</td>\n      <td>43.806686</td>\n      <td>-79.194353</td>\n    </tr>\n    <tr>\n      <th>M1C</th>\n      <td>Highland Creek , Rouge Hill , Port Union</td>\n      <td>Scarborough</td>\n      <td>43.784535</td>\n      <td>-79.160497</td>\n    </tr>\n    <tr>\n      <th>M1E</th>\n      <td>Guildwood , Morningside , West Hill</td>\n      <td>Scarborough</td>\n      <td>43.763573</td>\n      <td>-79.188711</td>\n    </tr>\n    <tr>\n      <th>M1G</th>\n      <td>Woburn</td>\n      <td>Scarborough</td>\n      <td>43.770992</td>\n      <td>-79.216917</td>\n    </tr>\n    <tr>\n      <th>M1H</th>\n      <td>Cedarbrae</td>\n      <td>Scarborough</td>\n      <td>43.773136</td>\n      <td>-79.239476</td>\n    </tr>\n    <tr>\n      <th>M1J</th>\n      <td>Scarborough Village</td>\n      <td>Scarborough</td>\n      <td>43.744734</td>\n      <td>-79.239476</td>\n    </tr>\n    <tr>\n      <th>M1K</th>\n      <td>East Birchmount Park , Ionview , Kennedy Park</td>\n      <td>Scarborough</td>\n      <td>43.727929</td>\n      <td>-79.262029</td>\n    </tr>\n    <tr>\n      <th>M1L</th>\n      <td>Clairlea , Golden Mile , Oakridge</td>\n      <td>Scarborough</td>\n      <td>43.711112</td>\n      <td>-79.284577</td>\n    </tr>\n    <tr>\n      <th>M1M</th>\n      <td>Cliffcrest , Cliffside , Scarborough Village W...</td>\n      <td>Scarborough</td>\n      <td>43.716316</td>\n      <td>-79.239476</td>\n    </tr>\n    <tr>\n      <th>M1N</th>\n      <td>Birch Cliff , Cliffside West</td>\n      <td>Scarborough</td>\n      <td>43.692657</td>\n      <td>-79.264848</td>\n    </tr>\n    <tr>\n      <th>M1P</th>\n      <td>Dorset Park , Scarborough Town Centre , Wexfor...</td>\n      <td>Scarborough</td>\n      <td>43.757410</td>\n      <td>-79.273304</td>\n    </tr>\n    <tr>\n      <th>M1R</th>\n      <td>Maryvale , Wexford</td>\n      <td>Scarborough</td>\n      <td>43.750072</td>\n      <td>-79.295849</td>\n    </tr>\n    <tr>\n      <th>M1S</th>\n      <td>Agincourt</td>\n      <td>Scarborough</td>\n      <td>43.794200</td>\n      <td>-79.262029</td>\n    </tr>\n    <tr>\n      <th>M1T</th>\n      <td>Clarks Corners , Sullivan , Tam O'Shanter</td>\n      <td>Scarborough</td>\n      <td>43.781638</td>\n      <td>-79.304302</td>\n    </tr>\n    <tr>\n      <th>M1V</th>\n      <td>Agincourt North , L'Amoreaux East , Milliken ,...</td>\n      <td>Scarborough</td>\n      <td>43.815252</td>\n      <td>-79.284577</td>\n    </tr>\n    <tr>\n      <th>M1W</th>\n      <td>L'Amoreaux West , Steeles West</td>\n      <td>Scarborough</td>\n      <td>43.799525</td>\n      <td>-79.318389</td>\n    </tr>\n    <tr>\n      <th>M1X</th>\n      <td>Upper Rouge</td>\n      <td>Scarborough</td>\n      <td>43.836125</td>\n      <td>-79.205636</td>\n    </tr>\n    <tr>\n      <th>M2H</th>\n      <td>Hillcrest Village</td>\n      <td>North York</td>\n      <td>43.803762</td>\n      <td>-79.363452</td>\n    </tr>\n    <tr>\n      <th>M2J</th>\n      <td>Fairview , Henry Farm , Oriole</td>\n      <td>North York</td>\n      <td>43.778517</td>\n      <td>-79.346556</td>\n    </tr>\n    <tr>\n      <th>M2K</th>\n      <td>Bayview Village</td>\n      <td>North York</td>\n      <td>43.786947</td>\n      <td>-79.385975</td>\n    </tr>\n    <tr>\n      <th>M2L</th>\n      <td>Silver Hills , York Mills</td>\n      <td>North York</td>\n      <td>43.757490</td>\n      <td>-79.374714</td>\n    </tr>\n    <tr>\n      <th>M2M</th>\n      <td>Newtonbrook , Willowdale</td>\n      <td>North York</td>\n      <td>43.789053</td>\n      <td>-79.408493</td>\n    </tr>\n    <tr>\n      <th>M2N</th>\n      <td>Willowdale South</td>\n      <td>North York</td>\n      <td>43.770120</td>\n      <td>-79.408493</td>\n    </tr>\n    <tr>\n      <th>M2P</th>\n      <td>York Mills West</td>\n      <td>North York</td>\n      <td>43.752758</td>\n      <td>-79.400049</td>\n    </tr>\n    <tr>\n      <th>M2R</th>\n      <td>Willowdale West</td>\n      <td>North York</td>\n      <td>43.782736</td>\n      <td>-79.442259</td>\n    </tr>\n    <tr>\n      <th>M3A</th>\n      <td>Parkwoods</td>\n      <td>North York</td>\n      <td>43.753259</td>\n      <td>-79.329656</td>\n    </tr>\n    <tr>\n      <th>M3B</th>\n      <td>Don Mills North</td>\n      <td>North York</td>\n      <td>43.745906</td>\n      <td>-79.352188</td>\n    </tr>\n    <tr>\n      <th>M3C</th>\n      <td>Flemingdon Park , Don Mills South</td>\n      <td>North York</td>\n      <td>43.725900</td>\n      <td>-79.340923</td>\n    </tr>\n    <tr>\n      <th>M3H</th>\n      <td>Bathurst Manor , Downsview North , Wilson Heig...</td>\n      <td>North York</td>\n      <td>43.754328</td>\n      <td>-79.442259</td>\n    </tr>\n    <tr>\n      <th>M3J</th>\n      <td>Northwood Park , York University</td>\n      <td>North York</td>\n      <td>43.767980</td>\n      <td>-79.487262</td>\n    </tr>\n    <tr>\n      <th>...</th>\n      <td>...</td>\n      <td>...</td>\n      <td>...</td>\n      <td>...</td>\n    </tr>\n    <tr>\n      <th>M6C</th>\n      <td>Humewood-Cedarvale</td>\n      <td>York</td>\n      <td>43.693781</td>\n      <td>-79.428191</td>\n    </tr>\n    <tr>\n      <th>M6E</th>\n      <td>Caledonia-Fairbanks</td>\n      <td>York</td>\n      <td>43.689026</td>\n      <td>-79.453512</td>\n    </tr>\n    <tr>\n      <th>M6G</th>\n      <td>Christie</td>\n      <td>Downtown Toronto</td>\n      <td>43.669542</td>\n      <td>-79.422564</td>\n    </tr>\n    <tr>\n      <th>M6H</th>\n      <td>Dovercourt Village , Dufferin</td>\n      <td>West Toronto</td>\n      <td>43.669005</td>\n      <td>-79.442259</td>\n    </tr>\n    <tr>\n      <th>M6J</th>\n      <td>Little Portugal , Trinity</td>\n      <td>West Toronto</td>\n      <td>43.647927</td>\n      <td>-79.419750</td>\n    </tr>\n    <tr>\n      <th>M6K</th>\n      <td>Brockton , Exhibition Place , Parkdale Village</td>\n      <td>West Toronto</td>\n      <td>43.636847</td>\n      <td>-79.428191</td>\n    </tr>\n    <tr>\n      <th>M6L</th>\n      <td>Maple Leaf Park , North Park , Upwood Park</td>\n      <td>North York</td>\n      <td>43.713756</td>\n      <td>-79.490074</td>\n    </tr>\n    <tr>\n      <th>M6M</th>\n      <td>Del Ray , Keelesdale , Mount Dennis , Silverth...</td>\n      <td>York</td>\n      <td>43.691116</td>\n      <td>-79.476013</td>\n    </tr>\n    <tr>\n      <th>M6N</th>\n      <td>The Junction North , Runnymede</td>\n      <td>York</td>\n      <td>43.673185</td>\n      <td>-79.487262</td>\n    </tr>\n    <tr>\n      <th>M6P</th>\n      <td>High Park , The Junction South</td>\n      <td>West Toronto</td>\n      <td>43.661608</td>\n      <td>-79.464763</td>\n    </tr>\n    <tr>\n      <th>M6R</th>\n      <td>Parkdale , Roncesvalles</td>\n      <td>West Toronto</td>\n      <td>43.648960</td>\n      <td>-79.456325</td>\n    </tr>\n    <tr>\n      <th>M6S</th>\n      <td>Runnymede , Swansea</td>\n      <td>West Toronto</td>\n      <td>43.651571</td>\n      <td>-79.484450</td>\n    </tr>\n    <tr>\n      <th>M7A</th>\n      <td>Queen's Park</td>\n      <td>Queen's Park</td>\n      <td>43.662301</td>\n      <td>-79.389494</td>\n    </tr>\n    <tr>\n      <th>M7R</th>\n      <td>Canada Post Gateway Processing Centre</td>\n      <td>Mississauga</td>\n      <td>43.636966</td>\n      <td>-79.615819</td>\n    </tr>\n    <tr>\n      <th>M7Y</th>\n      <td>Business Reply Mail Processing Centre 969 East...</td>\n      <td>East Toronto</td>\n      <td>43.662744</td>\n      <td>-79.321558</td>\n    </tr>\n    <tr>\n      <th>M8V</th>\n      <td>Humber Bay Shores , Mimico South , New Toronto</td>\n      <td>Etobicoke</td>\n      <td>43.605647</td>\n      <td>-79.501321</td>\n    </tr>\n    <tr>\n      <th>M8W</th>\n      <td>Alderwood , Long Branch</td>\n      <td>Etobicoke</td>\n      <td>43.602414</td>\n      <td>-79.543484</td>\n    </tr>\n    <tr>\n      <th>M8X</th>\n      <td>The Kingsway , Montgomery Road , Old Mill North</td>\n      <td>Etobicoke</td>\n      <td>43.653654</td>\n      <td>-79.506944</td>\n    </tr>\n    <tr>\n      <th>M8Y</th>\n      <td>Humber Bay , King's Mill Park , Kingsway Park ...</td>\n      <td>Etobicoke</td>\n      <td>43.636258</td>\n      <td>-79.498509</td>\n    </tr>\n    <tr>\n      <th>M8Z</th>\n      <td>Kingsway Park South West , Mimico NW , The Que...</td>\n      <td>Etobicoke</td>\n      <td>43.628841</td>\n      <td>-79.520999</td>\n    </tr>\n    <tr>\n      <th>M9A</th>\n      <td>Islington Avenue</td>\n      <td>Etobicoke</td>\n      <td>43.667856</td>\n      <td>-79.532242</td>\n    </tr>\n    <tr>\n      <th>M9B</th>\n      <td>Cloverdale , Islington , Martin Grove , Prince...</td>\n      <td>Etobicoke</td>\n      <td>43.650943</td>\n      <td>-79.554724</td>\n    </tr>\n    <tr>\n      <th>M9C</th>\n      <td>Bloordale Gardens , Eringate , Markland Wood ,...</td>\n      <td>Etobicoke</td>\n      <td>43.643515</td>\n      <td>-79.577201</td>\n    </tr>\n    <tr>\n      <th>M9L</th>\n      <td>Humber Summit</td>\n      <td>North York</td>\n      <td>43.756303</td>\n      <td>-79.565963</td>\n    </tr>\n    <tr>\n      <th>M9M</th>\n      <td>Emery , Humberlea</td>\n      <td>North York</td>\n      <td>43.724766</td>\n      <td>-79.532242</td>\n    </tr>\n    <tr>\n      <th>M9N</th>\n      <td>Weston</td>\n      <td>York</td>\n      <td>43.706876</td>\n      <td>-79.518188</td>\n    </tr>\n    <tr>\n      <th>M9P</th>\n      <td>Westmount</td>\n      <td>Etobicoke</td>\n      <td>43.696319</td>\n      <td>-79.532242</td>\n    </tr>\n    <tr>\n      <th>M9R</th>\n      <td>Kingsview Village , Martin Grove Gardens , Ric...</td>\n      <td>Etobicoke</td>\n      <td>43.688905</td>\n      <td>-79.554724</td>\n    </tr>\n    <tr>\n      <th>M9V</th>\n      <td>Albion Gardens , Beaumond Heights , Humbergate...</td>\n      <td>Etobicoke</td>\n      <td>43.739416</td>\n      <td>-79.588437</td>\n    </tr>\n    <tr>\n      <th>M9W</th>\n      <td>Northwest</td>\n      <td>Etobicoke</td>\n      <td>43.706748</td>\n      <td>-79.594054</td>\n    </tr>\n  </tbody>\n</table>\n<p>103 rows \u00d7 4 columns</p>\n</div>", 
                        "text/plain": "                                              Neighbourhood           Borough  \\\nPostcode                                                                        \nM1B                                        Rouge , Malvern        Scarborough   \nM1C               Highland Creek , Rouge Hill , Port Union        Scarborough   \nM1E                    Guildwood , Morningside , West Hill        Scarborough   \nM1G                                                 Woburn        Scarborough   \nM1H                                              Cedarbrae        Scarborough   \nM1J                                    Scarborough Village        Scarborough   \nM1K          East Birchmount Park , Ionview , Kennedy Park        Scarborough   \nM1L                      Clairlea , Golden Mile , Oakridge        Scarborough   \nM1M       Cliffcrest , Cliffside , Scarborough Village W...       Scarborough   \nM1N                           Birch Cliff , Cliffside West        Scarborough   \nM1P       Dorset Park , Scarborough Town Centre , Wexfor...       Scarborough   \nM1R                                     Maryvale , Wexford        Scarborough   \nM1S                                              Agincourt        Scarborough   \nM1T              Clarks Corners , Sullivan , Tam O'Shanter        Scarborough   \nM1V       Agincourt North , L'Amoreaux East , Milliken ,...       Scarborough   \nM1W                         L'Amoreaux West , Steeles West        Scarborough   \nM1X                                            Upper Rouge        Scarborough   \nM2H                                      Hillcrest Village         North York   \nM2J                         Fairview , Henry Farm , Oriole         North York   \nM2K                                        Bayview Village         North York   \nM2L                              Silver Hills , York Mills         North York   \nM2M                               Newtonbrook , Willowdale         North York   \nM2N                                       Willowdale South         North York   \nM2P                                        York Mills West         North York   \nM2R                                        Willowdale West         North York   \nM3A                                              Parkwoods         North York   \nM3B                                        Don Mills North         North York   \nM3C                      Flemingdon Park , Don Mills South         North York   \nM3H       Bathurst Manor , Downsview North , Wilson Heig...        North York   \nM3J                       Northwood Park , York University         North York   \n...                                                     ...               ...   \nM6C                                     Humewood-Cedarvale               York   \nM6E                                    Caledonia-Fairbanks               York   \nM6G                                               Christie   Downtown Toronto   \nM6H                          Dovercourt Village , Dufferin       West Toronto   \nM6J                              Little Portugal , Trinity       West Toronto   \nM6K         Brockton , Exhibition Place , Parkdale Village       West Toronto   \nM6L             Maple Leaf Park , North Park , Upwood Park         North York   \nM6M       Del Ray , Keelesdale , Mount Dennis , Silverth...              York   \nM6N                         The Junction North , Runnymede               York   \nM6P                         High Park , The Junction South       West Toronto   \nM6R                                Parkdale , Roncesvalles       West Toronto   \nM6S                                    Runnymede , Swansea       West Toronto   \nM7A                                            Queen's Park      Queen's Park   \nM7R                  Canada Post Gateway Processing Centre        Mississauga   \nM7Y       Business Reply Mail Processing Centre 969 East...      East Toronto   \nM8V         Humber Bay Shores , Mimico South , New Toronto          Etobicoke   \nM8W                                Alderwood , Long Branch          Etobicoke   \nM8X        The Kingsway , Montgomery Road , Old Mill North          Etobicoke   \nM8Y       Humber Bay , King's Mill Park , Kingsway Park ...         Etobicoke   \nM8Z       Kingsway Park South West , Mimico NW , The Que...         Etobicoke   \nM9A                                       Islington Avenue          Etobicoke   \nM9B       Cloverdale , Islington , Martin Grove , Prince...         Etobicoke   \nM9C       Bloordale Gardens , Eringate , Markland Wood ,...         Etobicoke   \nM9L                                          Humber Summit         North York   \nM9M                                      Emery , Humberlea         North York   \nM9N                                                 Weston               York   \nM9P                                              Westmount          Etobicoke   \nM9R       Kingsview Village , Martin Grove Gardens , Ric...         Etobicoke   \nM9V       Albion Gardens , Beaumond Heights , Humbergate...         Etobicoke   \nM9W                                              Northwest          Etobicoke   \n\n           Latitude  Longitude  \nPostcode                        \nM1B       43.806686 -79.194353  \nM1C       43.784535 -79.160497  \nM1E       43.763573 -79.188711  \nM1G       43.770992 -79.216917  \nM1H       43.773136 -79.239476  \nM1J       43.744734 -79.239476  \nM1K       43.727929 -79.262029  \nM1L       43.711112 -79.284577  \nM1M       43.716316 -79.239476  \nM1N       43.692657 -79.264848  \nM1P       43.757410 -79.273304  \nM1R       43.750072 -79.295849  \nM1S       43.794200 -79.262029  \nM1T       43.781638 -79.304302  \nM1V       43.815252 -79.284577  \nM1W       43.799525 -79.318389  \nM1X       43.836125 -79.205636  \nM2H       43.803762 -79.363452  \nM2J       43.778517 -79.346556  \nM2K       43.786947 -79.385975  \nM2L       43.757490 -79.374714  \nM2M       43.789053 -79.408493  \nM2N       43.770120 -79.408493  \nM2P       43.752758 -79.400049  \nM2R       43.782736 -79.442259  \nM3A       43.753259 -79.329656  \nM3B       43.745906 -79.352188  \nM3C       43.725900 -79.340923  \nM3H       43.754328 -79.442259  \nM3J       43.767980 -79.487262  \n...             ...        ...  \nM6C       43.693781 -79.428191  \nM6E       43.689026 -79.453512  \nM6G       43.669542 -79.422564  \nM6H       43.669005 -79.442259  \nM6J       43.647927 -79.419750  \nM6K       43.636847 -79.428191  \nM6L       43.713756 -79.490074  \nM6M       43.691116 -79.476013  \nM6N       43.673185 -79.487262  \nM6P       43.661608 -79.464763  \nM6R       43.648960 -79.456325  \nM6S       43.651571 -79.484450  \nM7A       43.662301 -79.389494  \nM7R       43.636966 -79.615819  \nM7Y       43.662744 -79.321558  \nM8V       43.605647 -79.501321  \nM8W       43.602414 -79.543484  \nM8X       43.653654 -79.506944  \nM8Y       43.636258 -79.498509  \nM8Z       43.628841 -79.520999  \nM9A       43.667856 -79.532242  \nM9B       43.650943 -79.554724  \nM9C       43.643515 -79.577201  \nM9L       43.756303 -79.565963  \nM9M       43.724766 -79.532242  \nM9N       43.706876 -79.518188  \nM9P       43.696319 -79.532242  \nM9R       43.688905 -79.554724  \nM9V       43.739416 -79.588437  \nM9W       43.706748 -79.594054  \n\n[103 rows x 4 columns]"
                    }, 
                    "output_type": "execute_result"
                }
            ], 
            "source": "tpd_group.join(df_geo)"
        }, 
        {
            "source": "## Print the number of rows ", 
            "cell_type": "markdown", 
            "metadata": {}
        }, 
        {
            "execution_count": 88, 
            "cell_type": "code", 
            "metadata": {}, 
            "outputs": [
                {
                    "execution_count": 88, 
                    "metadata": {}, 
                    "data": {
                        "text/plain": "(103, 2)"
                    }, 
                    "output_type": "execute_result"
                }
            ], 
            "source": "tpd_group.shape"
        }, 
        {
            "execution_count": null, 
            "cell_type": "code", 
            "metadata": {}, 
            "outputs": [], 
            "source": ""
        }
    ], 
    "metadata": {
        "kernelspec": {
            "display_name": "Python 3.5", 
            "name": "python3", 
            "language": "python"
        }, 
        "language_info": {
            "mimetype": "text/x-python", 
            "nbconvert_exporter": "python", 
            "version": "3.5.5", 
            "name": "python", 
            "file_extension": ".py", 
            "pygments_lexer": "ipython3", 
            "codemirror_mode": {
                "version": 3, 
                "name": "ipython"
            }
        }
    }, 
    "nbformat": 4
}